{
 "cells": [
  {
   "cell_type": "markdown",
   "metadata": {},
   "source": [
    "# Calcul de la distance de Levenshtein"
   ]
  },
  {
   "cell_type": "code",
   "execution_count": 1,
   "metadata": {},
   "outputs": [
    {
     "name": "stdout",
     "output_type": "stream",
     "text": [
      "La distance de Levenshtein entre acceuil et accueil est: 2\n",
      "La distance de Levenshtein entre arborigène et aborigène est: 1\n",
      "La distance de Levenshtein entre chiens et niche est: 5\n",
      "Temps d'execution de Levenshtein(chiens,niche):  0.0007665157318115234 s\n"
     ]
    }
   ],
   "source": [
    "import numpy as np\n",
    "def levenshtein(chaine1, chaine2):\n",
    "    if len(chaine1) < len(chaine2):\n",
    "        return levenshtein(chaine2, chaine1)\n",
    "\n",
    "    if len(chaine2) == 0:\n",
    "        return len(chaine2)\n",
    "\n",
    "    \n",
    "    chaine1 = np.array(tuple(chaine1))\n",
    "    chaine2 = np.array(tuple(chaine2))\n",
    "\n",
    "\n",
    "    ligne_preced = np.arange(chaine2.size + 1)\n",
    "    for s in chaine1:\n",
    "        #insertion:\n",
    "        ligne_actuel = ligne_preced + 1\n",
    "\n",
    "        # Substitution:\n",
    "        ligne_actuel[1:] = np.minimum(\n",
    "                ligne_actuel[1:],\n",
    "                np.add(ligne_preced[:-1], chaine2 != s))\n",
    "\n",
    "        # effacement:\n",
    "        ligne_actuel[1:] = np.minimum(\n",
    "                ligne_actuel[1:],\n",
    "                ligne_actuel[0:-1] + 1)\n",
    "\n",
    "        ligne_preced = ligne_actuel\n",
    "\n",
    "    return ligne_preced[-1]\n",
    "print('La distance de Levenshtein entre acceuil et accueil est:',levenshtein('acceuil', 'accueil'))\n",
    "print('La distance de Levenshtein entre arborigène et aborigène est:',levenshtein('arborigène', 'aborigène'))\n",
    "print('La distance de Levenshtein entre chiens et niche est:',levenshtein('chiens', 'niche'))\n",
    "import time\n",
    "start_time = time.time()\n",
    "y = levenshtein('chiens', 'niche')\n",
    "\n",
    " \n",
    "print (\"Temps d'execution de Levenshtein(chiens,niche): \", time.time() - start_time,'s')"
   ]
  },
  {
   "cell_type": "markdown",
   "metadata": {},
   "source": [
    "# Le correcteur orthographique proposé"
   ]
  },
  {
   "cell_type": "markdown",
   "metadata": {},
   "source": [
    "Pour reussir notre correcteur orthographique on va passer par trois étapes:  \n",
    "    $*$On construit la table de hashcode correspondant au dictionnaire fournie.  \n",
    "    $*$On lit une liste de mots corrects (le dictionnaire) pour chaque mot.  \n",
    "    $*$La correction orthographique.\n",
    "    "
   ]
  },
  {
   "cell_type": "markdown",
   "metadata": {},
   "source": [
    "*Etape1*"
   ]
  },
  {
   "cell_type": "markdown",
   "metadata": {},
   "source": [
    "Dans cette étape on va tout d'abord lire notre document:"
   ]
  },
  {
   "cell_type": "code",
   "execution_count": 2,
   "metadata": {},
   "outputs": [],
   "source": [
    "fichier=open('/home/wyouness/Téléchargements/python/listeDesMotsFrancais','r')\n",
    "s=fichier.read()"
   ]
  },
  {
   "cell_type": "markdown",
   "metadata": {},
   "source": [
    "Après on va mettre les mots dans une liste:"
   ]
  },
  {
   "cell_type": "code",
   "execution_count": 3,
   "metadata": {},
   "outputs": [],
   "source": [
    "listDesMots=s.split('\\n')"
   ]
  },
  {
   "cell_type": "markdown",
   "metadata": {},
   "source": [
    "Maintenant je vais choisir la fonction de hashage:\n",
    "    "
   ]
  },
  {
   "cell_type": "code",
   "execution_count": 4,
   "metadata": {},
   "outputs": [],
   "source": [
    "N = 1000000 \n",
    "def hashage(mot):\n",
    "    hash=sum(ord(s)for s in mot)%N\n",
    "    return hash"
   ]
  },
  {
   "cell_type": "markdown",
   "metadata": {},
   "source": [
    "on va représenterer les mots ayant le meme hashcode sous forme d'un dictionnaire:"
   ]
  },
  {
   "cell_type": "code",
   "execution_count": 5,
   "metadata": {},
   "outputs": [
    {
     "name": "stdout",
     "output_type": "stream",
     "text": [
      "Temps d'execution de cette operation est:  1304.346748828888 s comme c'est long\n"
     ]
    }
   ],
   "source": [
    "listeDeHashage=set([hashage(elm)for elm in listDesMots])\n",
    "import time\n",
    "start_time = time.time()\n",
    "lstMotsOntMemeHashe={hash:[mot  for mot in listDesMots if hashage(mot)==hash] for hash in listeDeHashage }\n",
    "print (\"Temps d'execution de cette operation est: \", time.time() - start_time,\"s comme c'est long\")"
   ]
  },
  {
   "cell_type": "markdown",
   "metadata": {},
   "source": [
    "*Etape 2*"
   ]
  },
  {
   "cell_type": "markdown",
   "metadata": {},
   "source": [
    "Dans cette étape on va essayer de construire le dictionnaire des tri-grammes:  \n",
    "    Tout d'abord on rajoute un caractère « $ » au début et à la fin des mots."
   ]
  },
  {
   "cell_type": "code",
   "execution_count": 6,
   "metadata": {},
   "outputs": [],
   "source": [
    "listeTrigram=[]\n",
    "for mot in listDesMots:\n",
    "    listeTrigram.append('$'+mot+'$')"
   ]
  },
  {
   "cell_type": "markdown",
   "metadata": {},
   "source": [
    "Je vais construire la fonction de trigramme:"
   ]
  },
  {
   "cell_type": "code",
   "execution_count": 7,
   "metadata": {},
   "outputs": [],
   "source": [
    "def tri(mot):\n",
    "\n",
    "    s=set()\n",
    "    for i in range(len(mot)-2):\n",
    "\n",
    "        s.add(mot[i:i+3])\n",
    "        \n",
    "    return(s)"
   ]
  },
  {
   "cell_type": "markdown",
   "metadata": {},
   "source": [
    "Après le dictionnaire des tri-grammes:"
   ]
  },
  {
   "cell_type": "code",
   "execution_count": 8,
   "metadata": {},
   "outputs": [
    {
     "name": "stdout",
     "output_type": "stream",
     "text": [
      "Temps d'execution de cette operation est:  6.425380706787109e-06 minutes comme c'est looong!!!\n"
     ]
    }
   ],
   "source": [
    "setTriGramme=set()\n",
    "for tg in listeTrigram:\n",
    "    if '$' not in tg:\n",
    "        setTriGramme.update(tri(mot))\n",
    "import time\n",
    "start_time = time.time()\n",
    "dicTrigramme={tg:{mot for mot in listDesMots if tg in mot}for tg in setTriGramme}\n",
    "print (\"Temps d'execution de cette operation est: \", (time.time() - start_time)/60,\"minutes est ce que ça prend beaucoup du temps??\")"
   ]
  },
  {
   "cell_type": "markdown",
   "metadata": {},
   "source": [
    "Finalement passant à la fonction de correction orthographique :o\n",
    "Mais j'ai un problème avec le coefficient de Jaccard! J'ai pas pu construire la fonction de Jaccard selon la page http://fr.wikipedia.org/wiki/Indice_et_distance_de_Jaccard j'ai essayé avec ça après je me bloque!\n",
    "\n",
    "\n"
   ]
  },
  {
   "cell_type": "code",
   "execution_count": null,
   "metadata": {},
   "outputs": [],
   "source": [
    "chaine1='bonjour'\n",
    "\n",
    "chaine2='tout'\n",
    "bin_repr = lambda s, coding=\"ascii\": ' '.join('{0:08b}'.format(c) for c in s.encode(coding))\n",
    "print(bin_repr(chaine1))\n",
    "print(bin_repr(chaine2))"
   ]
  },
  {
   "cell_type": "markdown",
   "metadata": {},
   "source": [
    "Alors j'ai trouvé ce code sur net mais il m'a donné la meme liste qu'avant mais ce n'est pas la meme chose que dans la définition précédante."
   ]
  },
  {
   "cell_type": "code",
   "execution_count": null,
   "metadata": {},
   "outputs": [],
   "source": [
    "def compte_lettre(mot):\n",
    "    d = {}\n",
    "    for c in mot:\n",
    "        d[c] = d.get(c,0) + 1\n",
    "    return d\n",
    "def jaccard(mot1, mot2):\n",
    "        d1 = compte_lettre(mot1)\n",
    "        d2 = compte_lettre(mot2)\n",
    "\n",
    "        suppression = {}\n",
    "        for l in d1:\n",
    "            c1 = d1[l]\n",
    "            c2 = d2.get(l, 0) \n",
    "            if c2 != c1:\n",
    "                suppression[l] = c2 - c1\n",
    "\n",
    "        ajout = {}\n",
    "        for l in d2:\n",
    "            if l not in d1:\n",
    "                c1 = 0\n",
    "                c2 = d2[l]\n",
    "                if c2 != c1:\n",
    "                    ajout[l] = c2 - c1\n",
    "            else:\n",
    "\n",
    "                pass\n",
    "\n",
    "        dist = sum(abs(x) for x in suppression.values()) + sum(abs(x) for x in ajout.values())\n",
    "        return dist\n",
    "    "
   ]
  },
  {
   "cell_type": "code",
   "execution_count": null,
   "metadata": {},
   "outputs": [],
   "source": [
    "mot='alor'\n",
    "if mot in listDesMots:\n",
    "    print(\"il n'y a pas de faute d'orthographe yees\")\n",
    "else:\n",
    "    mot1='$'+mot+'$'\n",
    "    listeTriGramme=tri(mot1)\n",
    "    listeDesMotCorr=set(listDesMots)\n",
    "    for elem in listeTriGramme:\n",
    "        if '$' not in elem:\n",
    "            listeDesMotCorr=listeDesMotCorr&dicTrigramme[elem]\n",
    "    listecorr=[]\n",
    "    for elem in listeDesMotCorr:\n",
    "        if jaccard(mot,elem)>0.2 :\n",
    "            listecorr.append(elem)"
   ]
  }
 ],
 "metadata": {
  "kernelspec": {
   "display_name": "Python 3",
   "language": "python",
   "name": "python3"
  },
  "language_info": {
   "codemirror_mode": {
    "name": "ipython",
    "version": 3
   },
   "file_extension": ".py",
   "mimetype": "text/x-python",
   "name": "python",
   "nbconvert_exporter": "python",
   "pygments_lexer": "ipython3",
   "version": "3.7.3"
  }
 },
 "nbformat": 4,
 "nbformat_minor": 2
}
